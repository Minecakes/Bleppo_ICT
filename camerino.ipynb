{
 "cells": [
  {
   "cell_type": "code",
   "execution_count": null,
   "id": "f5d649ed-f40b-42db-a6b8-3aa00edf7b31",
   "metadata": {},
   "outputs": [],
   "source": []
  }
 ],
 "metadata": {
  "kernelspec": {
   "display_name": "",
   "name": ""
  },
  "language_info": {
   "name": ""
  }
 },
 "nbformat": 4,
 "nbformat_minor": 5
}
