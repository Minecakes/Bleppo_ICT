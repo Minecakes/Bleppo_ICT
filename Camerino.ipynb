{
 "cells": [
  {
   "cell_type": "code",
   "execution_count": 1,
   "id": "29a100eb-8f4b-40a1-b8e5-75421b49f1e7",
   "metadata": {},
   "outputs": [
    {
     "name": "stdout",
     "output_type": "stream",
     "text": [
      "Matrix 1: [[23, 13, 3], [1, 9, 1]]\n",
      "Matrix 2: [[2, 0, 2], [6, 1, 4]]\n",
      "\n",
      "Matrix 3 (Matrix1 + Matrix2): [[25, 13, 5], [7, 10, 5]]\n",
      "\n",
      "Matrix 4 (Matrix1 * 2): [[46, 26, 6], [2, 18, 2]]\n",
      "\n",
      "Matrix 5 (Transpose of Matrix2): [[2, 6], [0, 1], [2, 4]]\n",
      "\n",
      "Matrix 6 (Matrix3 x Matrix5): [[60, 183], [24, 72]]\n",
      "\n",
      "Sum of all elements in Matrix 3: 65\n",
      "\n",
      "Matrix 7 (Zero Matrix 2x3): [[0, 0, 0], [0, 0, 0]]\n"
     ]
    }
   ],
   "source": [
    "# Sir dito ko gi define ang matrices\n",
    "\n",
    "matrix1 = [[23, 13, 3], [1, 9, 1]]\n",
    "matrix2 = [[2, 0, 2], [6, 1, 4]]\n",
    "\n",
    "# Print both matrices\n",
    "print(\"Matrix 1:\", matrix1)\n",
    "print(\"Matrix 2:\", matrix2)\n",
    "\n",
    "# Addition of Matrices\n",
    "matrix3 = [[matrix1[i][j] + matrix2[i][j] for j in range(3)] for i in range(2)]\n",
    "print(\"\\nMatrix 3 (Matrix1 + Matrix2):\", matrix3)\n",
    "\n",
    "# Scalar Multiplication of matrices\n",
    "matrix4 = [[matrix1[i][j] * 2 for j in range(3)] for i in range(2)]\n",
    "print(\"\\nMatrix 4 (Matrix1 * 2):\", matrix4)\n",
    "\n",
    "# Matrix 2 Transposision\n",
    "matrix5 = [[matrix2[j][i] for j in range(2)] for i in range(3)]\n",
    "print(\"\\nMatrix 5 (Transpose of Matrix2):\", matrix5)\n",
    "\n",
    "# Matrix Multiplication (Matrix3 x Matrix5)\n",
    "matrix6 = []\n",
    "for i in range(2):\n",
    "    row = []\n",
    "    for j in range(2):\n",
    "        sum_product = 0\n",
    "        for k in range(3):\n",
    "            sum_product += matrix3[i][k] * matrix5[k][j]\n",
    "        row.append(sum_product)\n",
    "    matrix6.append(row)\n",
    "print(\"\\nMatrix 6 (Matrix3 x Matrix5):\", matrix6)\n",
    "\n",
    "# Sum of All Elements in Matrix 3\n",
    "sum_matrix3 = sum(sum(row) for row in matrix3)\n",
    "print(\"\\nSum of all elements in Matrix 3:\", sum_matrix3)\n",
    "\n",
    "# Zero Matrix 2x3\n",
    "matrix7 = [[0 for _ in range(3)] for _ in range(2)]\n",
    "print(\"\\nMatrix 7 (Zero Matrix 2x3):\", matrix7)"
   ]
  },
  {
   "cell_type": "code",
   "execution_count": null,
   "id": "70c50100-20da-4e8d-af3c-d832da33eebe",
   "metadata": {},
   "outputs": [],
   "source": []
  }
 ],
 "metadata": {
  "kernelspec": {
   "display_name": "Python 3 (ipykernel)",
   "language": "python",
   "name": "python3"
  },
  "language_info": {
   "codemirror_mode": {
    "name": "ipython",
    "version": 3
   },
   "file_extension": ".py",
   "mimetype": "text/x-python",
   "name": "python",
   "nbconvert_exporter": "python",
   "pygments_lexer": "ipython3",
   "version": "3.12.7"
  }
 },
 "nbformat": 4,
 "nbformat_minor": 5
}
